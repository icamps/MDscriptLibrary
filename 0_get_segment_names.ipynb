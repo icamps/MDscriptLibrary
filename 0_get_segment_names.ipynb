{
 "cells": [
  {
   "cell_type": "code",
   "execution_count": 1,
   "metadata": {},
   "outputs": [
    {
     "data": {
      "application/vnd.jupyter.widget-view+json": {
       "model_id": "e90cf84fb1884b3db03729a2b4793dd0",
       "version_major": 2,
       "version_minor": 0
      },
      "text/plain": []
     },
     "metadata": {},
     "output_type": "display_data"
    },
    {
     "name": "stdout",
     "output_type": "stream",
     "text": [
      "2.0.0-dev0\n"
     ]
    }
   ],
   "source": [
    "import MDAnalysis as mda\n",
    "import MDAnalysis\n",
    "from MDAnalysis.analysis import contacts\n",
    "import MDAnalysis.transformations\n",
    "from MDAnalysis.analysis.hydrogenbonds.hbond_analysis import HydrogenBondAnalysis as HBA\n",
    "from MDAnalysisData import datasets\n",
    "from MDAnalysis.analysis import diffusionmap, align, rms\n",
    "from MDAnalysis.coordinates.memory import MemoryReader\n",
    "import MDAnalysis.analysis.pca as pca\n",
    "import MDAnalysis.analysis.rdf\n",
    "from MDAnalysis.analysis import rdf\n",
    "from MDAnalysis.analysis import diffusionmap, align, rms\n",
    "from MDAnalysis.analysis.base import (AnalysisBase,\n",
    "                                      AnalysisFromFunction,\n",
    "                                      analysis_class)\n",
    "import pandas as pd\n",
    "import numpy as np\n",
    "import nglview as nv\n",
    "import matplotlib.cm as cm\n",
    "import matplotlib.pyplot as plt\n",
    "import re\n",
    "import warnings\n",
    "# suppress some MDAnalysis warnings about writing PDB files\n",
    "warnings.filterwarnings('ignore')\n",
    "\n",
    "print(mda.__version__)"
   ]
  },
  {
   "cell_type": "code",
   "execution_count": 3,
   "metadata": {},
   "outputs": [
    {
     "name": "stdout",
     "output_type": "stream",
     "text": [
      "<SegmentGroup [<Segment LIG>, <Segment PROT>]>\n"
     ]
    }
   ],
   "source": [
    "# Input files\n",
    "fname_root = \"test\"\n",
    "fname_Topology = fname_root + \".psf\"\n",
    "fname_Trajectory = fname_root + \".dcd\"\n",
    "fname_PDB = fname_root + \".pdb\"\n",
    "u2 = mda.Universe(fname_Topology, fname_Trajectory, in_memory=False) #, in_memory=False, in_memory_step=500)\n",
    "#u.transfer_to_memory(start=3000, stop=3025, verbose=True) \n",
    "#from MDAnalysis.tests.datafiles import PSF, DCD\n",
    "# From test suite u = mda.Universe(PSF, DCD)\n",
    "print(u2.segments)\n",
    "#u.segments.segids[0]\n",
    "#u.segments.segids[1]\n",
    "#ref = mda.Universe(fname_Topology, fname_PDB)\n",
    "#frag_protein = \"segid PROT\"\n",
    "#frag_lig = \"segid LIG\""
   ]
  }
 ],
 "metadata": {
  "kernelspec": {
   "display_name": "Python 3",
   "language": "python",
   "name": "python3"
  },
  "language_info": {
   "codemirror_mode": {
    "name": "ipython",
    "version": 3
   },
   "file_extension": ".py",
   "mimetype": "text/x-python",
   "name": "python",
   "nbconvert_exporter": "python",
   "pygments_lexer": "ipython3",
   "version": "3.8.3"
  }
 },
 "nbformat": 4,
 "nbformat_minor": 4
}
